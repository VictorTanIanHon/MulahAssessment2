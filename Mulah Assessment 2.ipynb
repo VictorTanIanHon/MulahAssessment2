{
 "cells": [
  {
   "cell_type": "code",
   "execution_count": 2,
   "id": "9cbb8748",
   "metadata": {},
   "outputs": [
    {
     "name": "stdout",
     "output_type": "stream",
     "text": [
      "Requirement already satisfied: requests in c:\\users\\victor\\anaconda3\\envs\\tf2_cpu2\\lib\\site-packages (2.29.0)\n",
      "Requirement already satisfied: charset-normalizer<4,>=2 in c:\\users\\victor\\anaconda3\\envs\\tf2_cpu2\\lib\\site-packages (from requests) (2.0.4)\n",
      "Requirement already satisfied: idna<4,>=2.5 in c:\\users\\victor\\anaconda3\\envs\\tf2_cpu2\\lib\\site-packages (from requests) (3.4)\n",
      "Requirement already satisfied: urllib3<1.27,>=1.21.1 in c:\\users\\victor\\anaconda3\\envs\\tf2_cpu2\\lib\\site-packages (from requests) (1.26.16)\n",
      "Requirement already satisfied: certifi>=2017.4.17 in c:\\users\\victor\\anaconda3\\envs\\tf2_cpu2\\lib\\site-packages (from requests) (2023.7.22)\n",
      "Note: you may need to restart the kernel to use updated packages.\n"
     ]
    }
   ],
   "source": [
    "pip install requests\n"
   ]
  },
  {
   "cell_type": "code",
   "execution_count": 3,
   "id": "aeb0c998",
   "metadata": {},
   "outputs": [
    {
     "name": "stdout",
     "output_type": "stream",
     "text": [
      "Requirement already satisfied: beautifulsoup4 in c:\\users\\victor\\anaconda3\\envs\\tf2_cpu2\\lib\\site-packages (4.12.2)\n",
      "Requirement already satisfied: soupsieve>1.2 in c:\\users\\victor\\anaconda3\\envs\\tf2_cpu2\\lib\\site-packages (from beautifulsoup4) (2.4)\n",
      "Note: you may need to restart the kernel to use updated packages.\n"
     ]
    }
   ],
   "source": [
    "pip install beautifulsoup4"
   ]
  },
  {
   "cell_type": "code",
   "execution_count": 5,
   "id": "5cf00c4c",
   "metadata": {},
   "outputs": [
    {
     "name": "stdout",
     "output_type": "stream",
     "text": [
      "Requirement already satisfied: pandas in c:\\users\\victor\\anaconda3\\envs\\tf2_cpu2\\lib\\site-packages (1.5.3)\n",
      "Requirement already satisfied: python-dateutil>=2.8.1 in c:\\users\\victor\\appdata\\roaming\\python\\python310\\site-packages (from pandas) (2.8.2)\n",
      "Requirement already satisfied: pytz>=2020.1 in c:\\users\\victor\\anaconda3\\envs\\tf2_cpu2\\lib\\site-packages (from pandas) (2022.7)\n",
      "Requirement already satisfied: numpy>=1.21.0 in c:\\users\\victor\\anaconda3\\envs\\tf2_cpu2\\lib\\site-packages (from pandas) (1.25.0)\n",
      "Requirement already satisfied: six>=1.5 in c:\\users\\victor\\appdata\\roaming\\python\\python310\\site-packages (from python-dateutil>=2.8.1->pandas) (1.16.0)\n",
      "Note: you may need to restart the kernel to use updated packages.\n"
     ]
    }
   ],
   "source": [
    "pip install pandas"
   ]
  },
  {
   "cell_type": "code",
   "execution_count": 20,
   "id": "120c0541",
   "metadata": {},
   "outputs": [
    {
     "name": "stdout",
     "output_type": "stream",
     "text": [
      "Collecting selenium\n",
      "  Downloading selenium-4.12.0-py3-none-any.whl (9.4 MB)\n",
      "                                              0.0/9.4 MB ? eta -:--:--\n",
      "                                              0.0/9.4 MB ? eta -:--:--\n",
      "                                              0.1/9.4 MB 812.7 kB/s eta 0:00:12\n",
      "                                              0.1/9.4 MB 1.4 MB/s eta 0:00:07\n",
      "     -                                        0.2/9.4 MB 1.5 MB/s eta 0:00:07\n",
      "     -                                        0.4/9.4 MB 2.1 MB/s eta 0:00:05\n",
      "     --                                       0.6/9.4 MB 2.4 MB/s eta 0:00:04\n",
      "     ---                                      0.8/9.4 MB 2.7 MB/s eta 0:00:04\n",
      "     ----                                     1.0/9.4 MB 2.9 MB/s eta 0:00:03\n",
      "     -----                                    1.2/9.4 MB 3.0 MB/s eta 0:00:03\n",
      "     -----                                    1.4/9.4 MB 3.3 MB/s eta 0:00:03\n",
      "     ------                                   1.6/9.4 MB 3.4 MB/s eta 0:00:03\n",
      "     -------                                  1.8/9.4 MB 3.5 MB/s eta 0:00:03\n",
      "     --------                                 2.0/9.4 MB 3.5 MB/s eta 0:00:03\n",
      "     --------                                 2.0/9.4 MB 3.5 MB/s eta 0:00:03\n",
      "     --------                                 2.0/9.4 MB 3.5 MB/s eta 0:00:03\n",
      "     ---------                                2.3/9.4 MB 3.2 MB/s eta 0:00:03\n",
      "     ----------                               2.5/9.4 MB 3.2 MB/s eta 0:00:03\n",
      "     -----------                              2.8/9.4 MB 3.5 MB/s eta 0:00:02\n",
      "     -------------                            3.1/9.4 MB 3.6 MB/s eta 0:00:02\n",
      "     --------------                           3.3/9.4 MB 3.7 MB/s eta 0:00:02\n",
      "     --------------                           3.3/9.4 MB 3.7 MB/s eta 0:00:02\n",
      "     --------------                           3.3/9.4 MB 3.7 MB/s eta 0:00:02\n",
      "     --------------                           3.3/9.4 MB 3.7 MB/s eta 0:00:02\n",
      "     --------------                           3.3/9.4 MB 3.7 MB/s eta 0:00:02\n",
      "     --------------                           3.3/9.4 MB 3.7 MB/s eta 0:00:02\n",
      "     --------------                           3.3/9.4 MB 3.7 MB/s eta 0:00:02\n",
      "     --------------                           3.3/9.4 MB 3.7 MB/s eta 0:00:02\n",
      "     --------------                           3.3/9.4 MB 3.7 MB/s eta 0:00:02\n",
      "     --------------                           3.3/9.4 MB 3.7 MB/s eta 0:00:02\n",
      "     --------------                           3.3/9.4 MB 3.7 MB/s eta 0:00:02\n",
      "     --------------                           3.3/9.4 MB 3.7 MB/s eta 0:00:02\n",
      "     --------------                           3.4/9.4 MB 2.3 MB/s eta 0:00:03\n",
      "     -----------------                        4.1/9.4 MB 2.7 MB/s eta 0:00:02\n",
      "     ------------------                       4.3/9.4 MB 2.8 MB/s eta 0:00:02\n",
      "     ------------------                       4.4/9.4 MB 2.8 MB/s eta 0:00:02\n",
      "     -------------------                      4.6/9.4 MB 2.8 MB/s eta 0:00:02\n",
      "     ---------------------                    4.9/9.4 MB 2.9 MB/s eta 0:00:02\n",
      "     ----------------------                   5.2/9.4 MB 3.0 MB/s eta 0:00:02\n",
      "     -----------------------                  5.4/9.4 MB 3.0 MB/s eta 0:00:02\n",
      "     ------------------------                 5.7/9.4 MB 3.1 MB/s eta 0:00:02\n",
      "     -------------------------                5.9/9.4 MB 3.1 MB/s eta 0:00:02\n",
      "     --------------------------               6.2/9.4 MB 3.2 MB/s eta 0:00:01\n",
      "     ---------------------------              6.5/9.4 MB 3.3 MB/s eta 0:00:01\n",
      "     ----------------------------             6.8/9.4 MB 3.4 MB/s eta 0:00:01\n",
      "     ------------------------------           7.0/9.4 MB 3.4 MB/s eta 0:00:01\n",
      "     -------------------------------          7.3/9.4 MB 3.5 MB/s eta 0:00:01\n",
      "     --------------------------------         7.6/9.4 MB 3.5 MB/s eta 0:00:01\n",
      "     ---------------------------------        7.8/9.4 MB 3.5 MB/s eta 0:00:01\n",
      "     ----------------------------------       8.1/9.4 MB 3.6 MB/s eta 0:00:01\n",
      "     -----------------------------------      8.3/9.4 MB 3.6 MB/s eta 0:00:01\n",
      "     ------------------------------------     8.6/9.4 MB 3.7 MB/s eta 0:00:01\n",
      "     -------------------------------------    8.9/9.4 MB 3.7 MB/s eta 0:00:01\n",
      "     ---------------------------------------  9.2/9.4 MB 3.8 MB/s eta 0:00:01\n",
      "     ---------------------------------------  9.3/9.4 MB 3.8 MB/s eta 0:00:01\n",
      "     ---------------------------------------- 9.4/9.4 MB 3.8 MB/s eta 0:00:00\n",
      "Requirement already satisfied: urllib3[socks]<3,>=1.26 in c:\\users\\victor\\anaconda3\\envs\\tf2_cpu2\\lib\\site-packages (from selenium) (1.26.16)\n",
      "Collecting trio~=0.17 (from selenium)\n",
      "  Downloading trio-0.22.2-py3-none-any.whl (400 kB)\n",
      "                                              0.0/400.2 kB ? eta -:--:--\n",
      "     ---------------------                  225.3/400.2 kB 4.6 MB/s eta 0:00:01\n",
      "     -------------------------------------- 400.2/400.2 kB 5.0 MB/s eta 0:00:00\n",
      "Collecting trio-websocket~=0.9 (from selenium)\n",
      "  Downloading trio_websocket-0.10.4-py3-none-any.whl (17 kB)\n",
      "Requirement already satisfied: certifi>=2021.10.8 in c:\\users\\victor\\anaconda3\\envs\\tf2_cpu2\\lib\\site-packages (from selenium) (2023.7.22)\n",
      "Requirement already satisfied: attrs>=20.1.0 in c:\\users\\victor\\anaconda3\\envs\\tf2_cpu2\\lib\\site-packages (from trio~=0.17->selenium) (22.1.0)\n",
      "Collecting sortedcontainers (from trio~=0.17->selenium)\n",
      "  Downloading sortedcontainers-2.4.0-py2.py3-none-any.whl (29 kB)\n",
      "Requirement already satisfied: idna in c:\\users\\victor\\anaconda3\\envs\\tf2_cpu2\\lib\\site-packages (from trio~=0.17->selenium) (3.4)\n",
      "Collecting outcome (from trio~=0.17->selenium)\n",
      "  Downloading outcome-1.2.0-py2.py3-none-any.whl (9.7 kB)\n",
      "Requirement already satisfied: sniffio in c:\\users\\victor\\anaconda3\\envs\\tf2_cpu2\\lib\\site-packages (from trio~=0.17->selenium) (1.2.0)\n",
      "Requirement already satisfied: cffi>=1.14 in c:\\users\\victor\\anaconda3\\envs\\tf2_cpu2\\lib\\site-packages (from trio~=0.17->selenium) (1.15.1)\n",
      "Collecting exceptiongroup>=1.0.0rc9 (from trio~=0.17->selenium)\n",
      "  Downloading exceptiongroup-1.1.3-py3-none-any.whl (14 kB)\n",
      "Collecting wsproto>=0.14 (from trio-websocket~=0.9->selenium)\n",
      "  Downloading wsproto-1.2.0-py3-none-any.whl (24 kB)\n",
      "Requirement already satisfied: PySocks!=1.5.7,<2.0,>=1.5.6 in c:\\users\\victor\\anaconda3\\envs\\tf2_cpu2\\lib\\site-packages (from urllib3[socks]<3,>=1.26->selenium) (1.7.1)\n",
      "Requirement already satisfied: pycparser in c:\\users\\victor\\anaconda3\\envs\\tf2_cpu2\\lib\\site-packages (from cffi>=1.14->trio~=0.17->selenium) (2.21)\n",
      "Collecting h11<1,>=0.9.0 (from wsproto>=0.14->trio-websocket~=0.9->selenium)\n",
      "  Downloading h11-0.14.0-py3-none-any.whl (58 kB)\n",
      "                                              0.0/58.3 kB ? eta -:--:--\n",
      "     ---------------------------------------- 58.3/58.3 kB ? eta 0:00:00\n",
      "Installing collected packages: sortedcontainers, outcome, h11, exceptiongroup, wsproto, trio, trio-websocket, selenium\n",
      "Successfully installed exceptiongroup-1.1.3 h11-0.14.0 outcome-1.2.0 selenium-4.12.0 sortedcontainers-2.4.0 trio-0.22.2 trio-websocket-0.10.4 wsproto-1.2.0\n",
      "Note: you may need to restart the kernel to use updated packages.\n"
     ]
    }
   ],
   "source": [
    "pip install selenium"
   ]
  },
  {
   "cell_type": "code",
   "execution_count": 2,
   "id": "54a3ee60",
   "metadata": {},
   "outputs": [],
   "source": [
    "from bs4 import BeautifulSoup as bs"
   ]
  },
  {
   "cell_type": "code",
   "execution_count": 3,
   "id": "a42f62e1",
   "metadata": {},
   "outputs": [],
   "source": [
    "import requests"
   ]
  },
  {
   "cell_type": "code",
   "execution_count": 4,
   "id": "9688356e",
   "metadata": {},
   "outputs": [],
   "source": [
    "import pandas as pd"
   ]
  },
  {
   "cell_type": "code",
   "execution_count": 5,
   "id": "b3c95cfe",
   "metadata": {},
   "outputs": [],
   "source": [
    "response = requests.get('https://www.theverge.com/archives/2022/1')\n",
    "response.raise_for_status()"
   ]
  },
  {
   "cell_type": "code",
   "execution_count": 80,
   "id": "beb28ca7",
   "metadata": {},
   "outputs": [],
   "source": [
    "hldata = {\n",
    "    \"title\": [],\n",
    "    \"url\": [],\n",
    "    \"date\": []\n",
    "}"
   ]
  },
  {
   "cell_type": "code",
   "execution_count": 8,
   "id": "3fba23e9",
   "metadata": {},
   "outputs": [],
   "source": [
    "data = response.text"
   ]
  },
  {
   "cell_type": "code",
   "execution_count": 9,
   "id": "fe321195",
   "metadata": {},
   "outputs": [],
   "source": [
    "soup = bs(data, 'html.parser')"
   ]
  },
  {
   "cell_type": "code",
   "execution_count": 10,
   "id": "f33506f6",
   "metadata": {
    "scrolled": false
   },
   "outputs": [
    {
     "name": "stdout",
     "output_type": "stream",
     "text": [
      "[<a data-analytics-link=\"\" data-chorus-optimize-field=\"hed\" href=\"https://www.theverge.com/2022/1/31/22911408/sony-bungie-deal-zynga-microsoft-blizzard-gaming-acquisition\">Big video game companies just can’t stop buying studios</a>, <a data-analytics-link=\"\" data-chorus-optimize-field=\"hed\" href=\"https://www.theverge.com/2022/1/31/22910462/tesla-karaoke-microphones-teslamic-distraction-merchandise-roundup\">Tesla is now selling karaoke microphones in China</a>, <a data-analytics-link=\"\" data-chorus-optimize-field=\"hed\" href=\"https://www.theverge.com/2022/1/31/22911101/discord-playstation-network-account-connect-switching-experiments-rollout-partnership\">Discord is finally starting to let users link their PlayStation Network accounts</a>, <a data-analytics-link=\"\" data-chorus-optimize-field=\"hed\" href=\"https://www.theverge.com/2022/1/31/22910520/peloton-echelon-connected-fitness-streaming-patents\">Echelon persuades USPTO that Peloton’s streaming tech is unpatentable</a>, <a data-analytics-link=\"\" data-chorus-optimize-field=\"hed\" href=\"https://www.theverge.com/2022/1/31/22910985/bloodborne-psx-demake-pc-fangame\">Bloodborne is finally on PC (in the form of a neat PS1 demake)</a>, <a data-analytics-link=\"\" data-chorus-optimize-field=\"hed\" href=\"https://www.theverge.com/2022/1/31/22911072/tesla-seat-controls-disable-lock-out-brose\">Tesla has a new feature that will disable your seat controls if you keep messing with them</a>, <a data-analytics-link=\"\" data-chorus-optimize-field=\"hed\" href=\"https://www.theverge.com/2022/1/31/22911274/wordle-new-york-times-free-word-game-acquisition\">Wordle has been bought by The New York Times, will ‘initially’ remain free for everyone to play</a>, <a data-analytics-link=\"\" data-chorus-optimize-field=\"hed\" href=\"https://www.theverge.com/2022/1/31/22911066/disenchantment-season-4-trailer\">Disenchantment’s first season 4 trailer is dark and full of hellish terrors</a>, <a data-analytics-link=\"\" data-chorus-optimize-field=\"hed\" href=\"https://www.theverge.com/2022/1/31/22911067/boe-500-hz-gaming-monitor-high-refresh-rate\">A prototype 500Hz gaming monitor has broken cover</a>, <a data-analytics-link=\"\" data-chorus-optimize-field=\"hed\" href=\"https://www.theverge.com/2022/1/31/22910757/federal-court-decision-carbon-capture-storage-gulf-of-mexico-exxonmobile\">Federal court decision could slow oil industry efforts to store carbon in the Gulf of Mexico</a>, <a data-analytics-link=\"\" data-chorus-optimize-field=\"hed\" href=\"https://www.theverge.com/2022/1/31/22910758/pinterest-ar-furniture-shopping-west-elm-wayfair-crate-and-barrel-walmart\">Pinterest will let you use AR to preview furniture from Walmart, West Elm, and more</a>, <a data-analytics-link=\"\" data-chorus-optimize-field=\"hed\" href=\"https://www.theverge.com/2022/1/31/22910633/troy-baker-voiceverse-nft-voice-actor-project-the-last-of-us\">The voice of Joel from The Last of Us steps away from NFT project after outcry</a>, <a data-analytics-link=\"\" data-chorus-optimize-field=\"hed\" href=\"https://www.theverge.com/2022/1/31/22910712/china-tianwen-1-spacecraft-mars-orbiter-selfie-video\">China releases video of spacecraft orbiting Mars for Lunar New Year</a>, <a data-analytics-link=\"\" data-chorus-optimize-field=\"hed\" href=\"https://www.theverge.com/2022/1/31/22910452/netflix-texas-chainsaw-massacre-trailer-release-date\">Leatherface refuses to be canceled in Texas Chainsaw Massacre’s first trailer</a>, <a data-analytics-link=\"\" data-chorus-optimize-field=\"hed\" href=\"https://www.theverge.com/good-deals/2022/1/31/22909626/ipad-air-acer-chromebook-pokemon-legends-sony-earbuds-noise-cancelling-corsair-headset-deal-sale\">The latest iPad Air is selling for its lowest price ever</a>, <a data-analytics-link=\"\" data-chorus-optimize-field=\"hed\" href=\"https://www.theverge.com/2022/1/31/22910793/mlb-the-show-nintendo-switch-release-date-port-april-5th\">MLB The Show is making its Nintendo Switch debut on April 5th</a>, <a data-analytics-link=\"\" data-chorus-optimize-field=\"hed\" href=\"https://www.theverge.com/22910846/sony-bungie-acquisition-playstation-destiny-halo\">Sony is buying Bungie, the developer of Destiny and original creator of Halo</a>, <a data-analytics-link=\"\" data-chorus-optimize-field=\"hed\" href=\"https://www.theverge.com/2022/1/31/22910271/meta-3d-avatars-instagram-stories-messenger-facebook\">Meta adds 3D avatars to Instagram Stories, with updates for Messenger and Facebook</a>, <a data-analytics-link=\"\" data-chorus-optimize-field=\"hed\" href=\"https://www.theverge.com/2022/1/31/22910679/moderna-covid-vaccine-approval-fda-spikevax\">Moderna’s COVID-19 vaccine gets full FDA approval </a>, <a data-analytics-link=\"\" data-chorus-optimize-field=\"hed\" href=\"https://www.theverge.com/2022/1/31/22910603/xkcd-randall-munroe-what-if-2-book-annoucement-release-date\">XKCD’s Randall Munroe announces What If? 2, with more scientific answers to life’s most absurd hypothetical questions</a>, <a data-analytics-link=\"\" data-chorus-optimize-field=\"hed\" href=\"https://www.theverge.com/2022/1/31/22910289/amazon-warehouse-manager-pleads-guilty-mail-fraud\">Amazon warehouse manager pleads guilty to stealing $273K of computer parts</a>, <a data-analytics-link=\"\" data-chorus-optimize-field=\"hed\" href=\"https://www.theverge.com/2022/1/31/22906891/intel-12th-gen-alder-lake-mobile-laptop-chips-msi-ge76-raider-video\">Intel takes a bite out of Apple</a>, <a data-analytics-link=\"\" data-chorus-optimize-field=\"hed\" href=\"https://www.theverge.com/2022/1/31/22910269/robot-gripper-kirigami-egg-yolk-north-carolina-state\">This robot gripper is delicate enough to pick up an egg yolk without breaking it </a>, <a data-analytics-link=\"\" data-chorus-optimize-field=\"hed\" href=\"https://www.theverge.com/2022/1/31/22906352/peloton-heart-rate-band-fitness-tracking\">Peloton’s latest gadget is a $90 heart rate monitor for your arm</a>, <a data-analytics-link=\"\" data-chorus-optimize-field=\"hed\" href=\"https://www.theverge.com/2022/1/31/22910194/walmart-angi-tech-installation-services\">Walmart launches another pro service to install smart ACs and other new tech  </a>, <a data-analytics-link=\"\" data-chorus-optimize-field=\"hed\" href=\"https://www.theverge.com/2022/1/31/22903016/public-accountants-big-quit-memes-reddit\">Overtaxed</a>, <a data-analytics-link=\"\" data-chorus-optimize-field=\"hed\" href=\"https://www.theverge.com/2022/1/31/22910171/microsoft-3d-emoji-windows-11-work\">Microsoft still working on 3D emoji for Windows 11</a>, <a data-analytics-link=\"\" data-chorus-optimize-field=\"hed\" href=\"https://www.theverge.com/2022/1/31/22906141/chord-mojo-2-dac-digital-analogue-converter-wired-headphones-audio\">Chord’s Mojo 2 is a pricey gadget aimed at improving the sound of wired headphones</a>, <a data-analytics-link=\"\" data-chorus-optimize-field=\"hed\" href=\"https://www.theverge.com/2022/1/31/22910129/grindr-china-app-store-removal-ios-android\">Grindr reportedly disappears from app stores in China</a>, <a data-analytics-link=\"\" data-chorus-optimize-field=\"hed\" href=\"https://www.theverge.com/2022/1/31/22910039/joe-rogan-response-neil-young-joni-mitchell-spotify\">Joe Rogan defends podcast and apologizes to Spotify for backlash</a>]\n"
     ]
    }
   ],
   "source": [
    "links = soup.find_all(\"a\", attrs = {\"href\": True, \"data-chorus-optimize-field\" : \"hed\"})\n",
    "print(links)"
   ]
  },
  {
   "cell_type": "code",
   "execution_count": 87,
   "id": "df878120",
   "metadata": {},
   "outputs": [],
   "source": [
    "driver = webdriver.Chrome()\n",
    "driver.get(\"https://www.theverge.com/archives/2022/1\")"
   ]
  },
  {
   "cell_type": "code",
   "execution_count": 86,
   "id": "277a75af",
   "metadata": {},
   "outputs": [],
   "source": [
    "driver.quit()"
   ]
  },
  {
   "cell_type": "code",
   "execution_count": 11,
   "id": "20c3c605",
   "metadata": {},
   "outputs": [
    {
     "name": "stdout",
     "output_type": "stream",
     "text": [
      "Big video game companies just can’t stop buying studios\n"
     ]
    }
   ],
   "source": [
    "text = links[0].text\n",
    "print(text)"
   ]
  },
  {
   "cell_type": "code",
   "execution_count": 59,
   "id": "00de265c",
   "metadata": {},
   "outputs": [],
   "source": [
    "from selenium.webdriver.common.by import By\n",
    "import math\n",
    "import time"
   ]
  },
  {
   "cell_type": "code",
   "execution_count": 88,
   "id": "d0de84b0",
   "metadata": {},
   "outputs": [],
   "source": [
    "def scrape_website(url,number):\n",
    "    response = requests.get(url)\n",
    "    if response.status_code == 200:\n",
    "        \n",
    "        \n",
    "            \n",
    "        iterations = math.floor(number/30)\n",
    "        \n",
    "        for i in range(0,iterations):\n",
    "            load_more_button = driver.find_element(By.CSS_SELECTOR,\".p-button.c-archives-load-more__button\")\n",
    "            load_more_button.click()\n",
    "            time.sleep(5)\n",
    "        \n",
    "        html = driver.page_source\n",
    "        \n",
    "        \n",
    "        soup = bs(html, 'html.parser')\n",
    "        articles = soup.find_all(\"a\", attrs = {\"href\": True, \"data-chorus-optimize-field\" : \"hed\"})\n",
    "        articles = soup.find_all(\"div\", class_ = \"c-entry-box--compact__body\")\n",
    "        \n",
    "        for article in articles:\n",
    "            # Extract article title and link\n",
    "            title = article.find(\"a\", attrs = {\"href\": True, \"data-chorus-optimize-field\" : \"hed\"}).text\n",
    "            link = article.find(\"a\", attrs = {\"href\": True, \"data-chorus-optimize-field\" : \"hed\"})['href']\n",
    "            date = ''.join(article.find(\"time\").text.strip())\n",
    "            \n",
    "            hldata[\"title\"].append(title)\n",
    "            hldata[\"url\"].append(link)\n",
    "            hldata[\"date\"].append(date)"
   ]
  },
  {
   "cell_type": "code",
   "execution_count": 89,
   "id": "2a98da87",
   "metadata": {},
   "outputs": [],
   "source": [
    "scrape_website(\"https://www.theverge.com/archives/2022/1\",855)"
   ]
  },
  {
   "cell_type": "code",
   "execution_count": 85,
   "id": "d26aa86e",
   "metadata": {},
   "outputs": [
    {
     "name": "stdout",
     "output_type": "stream",
     "text": [
      "{'title': ['Big video game companies just can’t stop buying studios', 'Tesla is now selling karaoke microphones in China', 'Discord is finally starting to let users link their PlayStation Network accounts', 'Echelon persuades USPTO that Peloton’s streaming tech is unpatentable', 'Bloodborne is finally on PC (in the form of a neat PS1 demake)', 'Tesla has a new feature that will disable your seat controls if you keep messing with them', 'Wordle has been bought by The New York Times, will ‘initially’ remain free for everyone to play', 'Disenchantment’s first season 4 trailer is dark and full of hellish terrors', 'A prototype 500Hz gaming monitor has broken cover', 'Federal court decision could slow oil industry efforts to store carbon in the Gulf of Mexico', 'Pinterest will let you use AR to preview furniture from Walmart, West Elm, and more', 'The voice of Joel from The Last of Us steps away from NFT project after outcry', 'China releases video of spacecraft orbiting Mars for Lunar New Year', 'Leatherface refuses to be canceled in Texas Chainsaw Massacre’s first trailer', 'The latest iPad Air is selling for its lowest price ever', 'MLB The Show is making its Nintendo Switch debut on April 5th', 'Sony is buying Bungie, the developer of Destiny and original creator of Halo', 'Meta adds 3D avatars to Instagram Stories, with updates for Messenger and Facebook', 'Moderna’s COVID-19 vaccine gets full FDA approval ', 'XKCD’s Randall Munroe announces What If? 2, with more scientific answers to life’s most absurd hypothetical questions', 'Amazon warehouse manager pleads guilty to stealing $273K of computer parts', 'Intel takes a bite out of Apple', 'This robot gripper is delicate enough to pick up an egg yolk without breaking it ', 'Peloton’s latest gadget is a $90 heart rate monitor for your arm', 'Walmart launches another pro service to install smart ACs and other new tech  ', 'Overtaxed', 'Microsoft still working on 3D emoji for Windows 11', 'Chord’s Mojo 2 is a pricey gadget aimed at improving the sound of wired headphones', 'Grindr reportedly disappears from app stores in China', 'Joe Rogan defends podcast and apologizes to Spotify for backlash'], 'url': ['https://www.theverge.com/2022/1/31/22911408/sony-bungie-deal-zynga-microsoft-blizzard-gaming-acquisition', 'https://www.theverge.com/2022/1/31/22910462/tesla-karaoke-microphones-teslamic-distraction-merchandise-roundup', 'https://www.theverge.com/2022/1/31/22911101/discord-playstation-network-account-connect-switching-experiments-rollout-partnership', 'https://www.theverge.com/2022/1/31/22910520/peloton-echelon-connected-fitness-streaming-patents', 'https://www.theverge.com/2022/1/31/22910985/bloodborne-psx-demake-pc-fangame', 'https://www.theverge.com/2022/1/31/22911072/tesla-seat-controls-disable-lock-out-brose', 'https://www.theverge.com/2022/1/31/22911274/wordle-new-york-times-free-word-game-acquisition', 'https://www.theverge.com/2022/1/31/22911066/disenchantment-season-4-trailer', 'https://www.theverge.com/2022/1/31/22911067/boe-500-hz-gaming-monitor-high-refresh-rate', 'https://www.theverge.com/2022/1/31/22910757/federal-court-decision-carbon-capture-storage-gulf-of-mexico-exxonmobile', 'https://www.theverge.com/2022/1/31/22910758/pinterest-ar-furniture-shopping-west-elm-wayfair-crate-and-barrel-walmart', 'https://www.theverge.com/2022/1/31/22910633/troy-baker-voiceverse-nft-voice-actor-project-the-last-of-us', 'https://www.theverge.com/2022/1/31/22910712/china-tianwen-1-spacecraft-mars-orbiter-selfie-video', 'https://www.theverge.com/2022/1/31/22910452/netflix-texas-chainsaw-massacre-trailer-release-date', 'https://www.theverge.com/good-deals/2022/1/31/22909626/ipad-air-acer-chromebook-pokemon-legends-sony-earbuds-noise-cancelling-corsair-headset-deal-sale', 'https://www.theverge.com/2022/1/31/22910793/mlb-the-show-nintendo-switch-release-date-port-april-5th', 'https://www.theverge.com/22910846/sony-bungie-acquisition-playstation-destiny-halo', 'https://www.theverge.com/2022/1/31/22910271/meta-3d-avatars-instagram-stories-messenger-facebook', 'https://www.theverge.com/2022/1/31/22910679/moderna-covid-vaccine-approval-fda-spikevax', 'https://www.theverge.com/2022/1/31/22910603/xkcd-randall-munroe-what-if-2-book-annoucement-release-date', 'https://www.theverge.com/2022/1/31/22910289/amazon-warehouse-manager-pleads-guilty-mail-fraud', 'https://www.theverge.com/2022/1/31/22906891/intel-12th-gen-alder-lake-mobile-laptop-chips-msi-ge76-raider-video', 'https://www.theverge.com/2022/1/31/22910269/robot-gripper-kirigami-egg-yolk-north-carolina-state', 'https://www.theverge.com/2022/1/31/22906352/peloton-heart-rate-band-fitness-tracking', 'https://www.theverge.com/2022/1/31/22910194/walmart-angi-tech-installation-services', 'https://www.theverge.com/2022/1/31/22903016/public-accountants-big-quit-memes-reddit', 'https://www.theverge.com/2022/1/31/22910171/microsoft-3d-emoji-windows-11-work', 'https://www.theverge.com/2022/1/31/22906141/chord-mojo-2-dac-digital-analogue-converter-wired-headphones-audio', 'https://www.theverge.com/2022/1/31/22910129/grindr-china-app-store-removal-ios-android', 'https://www.theverge.com/2022/1/31/22910039/joe-rogan-response-neil-young-joni-mitchell-spotify'], 'date': ['Jan 31, 2022', 'Jan 31, 2022', 'Jan 31, 2022', 'Jan 31, 2022', 'Jan 31, 2022', 'Jan 31, 2022', 'Jan 31, 2022', 'Jan 31, 2022', 'Jan 31, 2022', 'Jan 31, 2022', 'Jan 31, 2022', 'Jan 31, 2022', 'Jan 31, 2022', 'Jan 31, 2022', 'Jan 31, 2022', 'Jan 31, 2022', 'Jan 31, 2022', 'Jan 31, 2022', 'Jan 31, 2022', 'Jan 31, 2022', 'Jan 31, 2022', 'Jan 31, 2022', 'Jan 31, 2022', 'Jan 31, 2022', 'Jan 31, 2022', 'Jan 31, 2022', 'Jan 31, 2022', 'Jan 31, 2022', 'Jan 31, 2022', 'Jan 31, 2022']}\n"
     ]
    }
   ],
   "source": [
    "print(hldata)"
   ]
  },
  {
   "cell_type": "code",
   "execution_count": 90,
   "id": "5f752e14",
   "metadata": {},
   "outputs": [
    {
     "data": {
      "text/plain": [
       "(885, 3)"
      ]
     },
     "execution_count": 90,
     "metadata": {},
     "output_type": "execute_result"
    }
   ],
   "source": [
    "df = pd.DataFrame(hldata)\n",
    "df.shape"
   ]
  },
  {
   "cell_type": "code",
   "execution_count": 95,
   "id": "c7fb4477",
   "metadata": {},
   "outputs": [],
   "source": [
    "df.to_csv('scraped_data.csv', index=False, sep = \"|\")"
   ]
  },
  {
   "cell_type": "code",
   "execution_count": 22,
   "id": "bfffaf04",
   "metadata": {},
   "outputs": [],
   "source": [
    "from selenium import webdriver"
   ]
  },
  {
   "cell_type": "code",
   "execution_count": null,
   "id": "25681ff2",
   "metadata": {},
   "outputs": [],
   "source": [
    "for i in range(9, 0 ,-1):\n",
    "    url = \"https://www.theverge.com/archives/2023/\" + i\n",
    "    scrape_website(url)\n",
    "\n",
    "for i in range(12,0,-1):\n",
    "    url = \"https://www.theverge.com/archives/2022/\" + i\n",
    "    scrape_website(url)"
   ]
  },
  {
   "cell_type": "code",
   "execution_count": 48,
   "id": "da0d2354",
   "metadata": {},
   "outputs": [
    {
     "name": "stdout",
     "output_type": "stream",
     "text": [
      "[<span class=\"c-filter-list__count\">1059</span>, <span class=\"c-filter-list__count\">1256</span>, <span class=\"c-filter-list__count\">1370</span>, <span class=\"c-filter-list__count\">1197</span>, <span class=\"c-filter-list__count\">938</span>, <span class=\"c-filter-list__count\">897</span>, <span class=\"c-filter-list__count\">841</span>, <span class=\"c-filter-list__count\">830</span>, <span class=\"c-filter-list__count\">787</span>, <span class=\"c-filter-list__count\">963</span>, <span class=\"c-filter-list__count\">781</span>, <span class=\"c-filter-list__count\">855</span>]\n"
     ]
    }
   ],
   "source": [
    "soup = bs(response.text, 'html.parser')\n",
    "        \n",
    "no_articles = []\n",
    "number = soup.find_all(\"span\", class_ = \"c-filter-list__count\")\n",
    "for i in number:\n",
    "    no_articles.append(int(i.text))"
   ]
  },
  {
   "cell_type": "code",
   "execution_count": 49,
   "id": "9faa6f34",
   "metadata": {},
   "outputs": [
    {
     "data": {
      "text/plain": [
       "[1059, 1256, 1370, 1197, 938, 897, 841, 830, 787, 963, 781, 855]"
      ]
     },
     "execution_count": 49,
     "metadata": {},
     "output_type": "execute_result"
    }
   ],
   "source": [
    "no_articles"
   ]
  },
  {
   "cell_type": "code",
   "execution_count": null,
   "id": "5917a8d9",
   "metadata": {},
   "outputs": [],
   "source": []
  },
  {
   "cell_type": "code",
   "execution_count": 92,
   "id": "edd42acb",
   "metadata": {},
   "outputs": [],
   "source": [
    "import csv\n",
    "import html"
   ]
  },
  {
   "cell_type": "code",
   "execution_count": null,
   "id": "3809e76c",
   "metadata": {},
   "outputs": [],
   "source": [
    "def csv_to_html(csv_file, columns):\n",
    "\n",
    "  html_table = \"\"\"<table>\n",
    "    <thead>\n",
    "      <tr>\n",
    "    \"\"\"\n",
    "\n",
    "  for column in columns:\n",
    "    html_table += f\"\"\"<th>{column}</th>\"\"\"\n",
    "\n",
    "  html_table += \"\"\"\n",
    "      </tr>\n",
    "    </thead>\n",
    "    <tbody>\n",
    "    \"\"\"\n",
    "\n",
    "  with open(csv_file, \"r\") as f:\n",
    "    reader = csv.reader(f)\n",
    "    for row in reader:\n",
    "      html_table += \"\"\"<tr>\"\"\"\n",
    "\n",
    "      for column in columns:\n",
    "        html_table += f\"\"\"<td>{html.escape(row[columns.index(column)])}</td>\"\"\"\n",
    "\n",
    "      html_table += \"\"\"</tr>\"\"\"\n",
    "\n",
    "  html_table += \"\"\"\n",
    "    </tbody>\n",
    "  </table>\n",
    "  \"\"\"\n",
    "\n",
    "  return html_table\n",
    "\n",
    "# Get the path to the CSV file.\n",
    "csv_file_path = \"/path/to/csv/file.csv\"\n",
    "\n",
    "# Get the column names.\n",
    "columns = [\"title\", \"link\"]\n",
    "\n",
    "# Convert the CSV file to HTML.\n",
    "html_table = csv_to_html(csv_file_path, columns)\n",
    "\n",
    "# Create a new HTML file.\n",
    "with open(\"table.html\", \"w\") as f:\n",
    "  f.write(\"\"\"<!DOCTYPE html>\n",
    "<html>\n",
    "<head>\n",
    "  <title>CSV Table</title>\n",
    "</head>\n",
    "<body>\n",
    "  <h1>CSV Table</h1>\n",
    "\"\"\")\n",
    "\n",
    "  # Write the HTML table to the file.\n",
    "  f.write(html_table)\n",
    "\n",
    "  f.write(\"\"\"\n",
    "</body>\n",
    "</html>\n",
    "\"\"\")\n",
    "\n",
    "# Open the HTML file in a web browser.\n",
    "import webbrowser\n",
    "\n",
    "webbrowser.open(\"table.html\")"
   ]
  },
  {
   "cell_type": "code",
   "execution_count": null,
   "id": "d0107b49",
   "metadata": {},
   "outputs": [],
   "source": []
  }
 ],
 "metadata": {
  "kernelspec": {
   "display_name": "Python 3 (ipykernel)",
   "language": "python",
   "name": "python3"
  },
  "language_info": {
   "codemirror_mode": {
    "name": "ipython",
    "version": 3
   },
   "file_extension": ".py",
   "mimetype": "text/x-python",
   "name": "python",
   "nbconvert_exporter": "python",
   "pygments_lexer": "ipython3",
   "version": "3.10.12"
  }
 },
 "nbformat": 4,
 "nbformat_minor": 5
}
